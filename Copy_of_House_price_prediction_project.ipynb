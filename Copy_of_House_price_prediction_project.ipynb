{
  "nbformat": 4,
  "nbformat_minor": 0,
  "metadata": {
    "colab": {
      "private_outputs": true,
      "provenance": [],
      "authorship_tag": "ABX9TyPSlu8Pgb/EwyvZkv8dYaA6"
    },
    "kernelspec": {
      "name": "python3",
      "display_name": "Python 3"
    },
    "language_info": {
      "name": "python"
    }
  },
  "cells": [
    {
      "cell_type": "code",
      "execution_count": null,
      "metadata": {
        "id": "lNn8-JBRt5db"
      },
      "outputs": [],
      "source": [
        "import pandas as pd"
      ]
    },
    {
      "cell_type": "code",
      "source": [
        "df = pd.read_csv('/content/Housing.csv')"
      ],
      "metadata": {
        "id": "44cw2vgkuJDL"
      },
      "execution_count": null,
      "outputs": []
    },
    {
      "cell_type": "code",
      "source": [
        "df.head()"
      ],
      "metadata": {
        "id": "Yx-1XnKUuQSs"
      },
      "execution_count": null,
      "outputs": []
    },
    {
      "cell_type": "code",
      "source": [
        "df.tail()"
      ],
      "metadata": {
        "id": "XWT27fIVuTDo"
      },
      "execution_count": null,
      "outputs": []
    },
    {
      "cell_type": "code",
      "source": [
        "df.describe()"
      ],
      "metadata": {
        "id": "i71lxwsfvByI"
      },
      "execution_count": null,
      "outputs": []
    },
    {
      "cell_type": "code",
      "source": [
        "df.info()"
      ],
      "metadata": {
        "id": "at-OlAF2uWWu"
      },
      "execution_count": null,
      "outputs": []
    },
    {
      "cell_type": "code",
      "source": [
        "df.isnull().sum()"
      ],
      "metadata": {
        "id": "N-PzPfK5upHq"
      },
      "execution_count": null,
      "outputs": []
    },
    {
      "cell_type": "markdown",
      "source": [
        "**Data Preprocessing**"
      ],
      "metadata": {
        "id": "-2ko3r3wyZrt"
      }
    },
    {
      "cell_type": "code",
      "source": [
        "list1 = ['mainroad','guestroom','basement','hotwaterheating','airconditioning',\"prefarea\"]"
      ],
      "metadata": {
        "id": "z01J1VM4uvl0"
      },
      "execution_count": null,
      "outputs": []
    },
    {
      "cell_type": "code",
      "source": [
        "df[list1] = df[list1].replace({\"yes\":1 ,\"no\": 0})"
      ],
      "metadata": {
        "id": "d1Qbd3rfvsdi"
      },
      "execution_count": null,
      "outputs": []
    },
    {
      "cell_type": "markdown",
      "source": [
        "Finding unique values"
      ],
      "metadata": {
        "id": "VyR0OEN1xXMl"
      }
    },
    {
      "cell_type": "code",
      "source": [
        "df['furnishingstatus'].nunique()"
      ],
      "metadata": {
        "id": "-meOe-smxGGb"
      },
      "execution_count": null,
      "outputs": []
    },
    {
      "cell_type": "code",
      "source": [
        "df['furnishingstatus'] = df['furnishingstatus'].replace({\"furnished\":0 ,\"semi-furnished\": 1,\"unfurnished\":2})"
      ],
      "metadata": {
        "id": "S5goIEvXxn0R"
      },
      "execution_count": null,
      "outputs": []
    },
    {
      "cell_type": "code",
      "source": [
        "from sklearn.preprocessing import StandardScaler"
      ],
      "metadata": {
        "id": "THQe2SuEyyai"
      },
      "execution_count": null,
      "outputs": []
    },
    {
      "cell_type": "code",
      "source": [
        "scaler = StandardScaler()"
      ],
      "metadata": {
        "id": "f5ix0iSZzFCm"
      },
      "execution_count": null,
      "outputs": []
    },
    {
      "cell_type": "code",
      "source": [
        "list2 = [\"price\",\"area\"]"
      ],
      "metadata": {
        "id": "jWX6TrOizNoq"
      },
      "execution_count": null,
      "outputs": []
    },
    {
      "cell_type": "code",
      "source": [
        "df[list2] = scaler.fit_transform(df[list2])"
      ],
      "metadata": {
        "id": "mj5lXlYDzYhn"
      },
      "execution_count": null,
      "outputs": []
    },
    {
      "cell_type": "code",
      "source": [
        "df.head()"
      ],
      "metadata": {
        "id": "osf705LTzrHl"
      },
      "execution_count": null,
      "outputs": []
    },
    {
      "cell_type": "code",
      "source": [
        "df.dtypes"
      ],
      "metadata": {
        "id": "lmkDnHrwztsz"
      },
      "execution_count": null,
      "outputs": []
    },
    {
      "cell_type": "markdown",
      "source": [
        "**Data Visualization**"
      ],
      "metadata": {
        "id": "Qkauszs-0F99"
      }
    },
    {
      "cell_type": "code",
      "source": [
        "core = df.corr() #correlation formula function"
      ],
      "metadata": {
        "id": "VOm7j-ik0NWx"
      },
      "execution_count": null,
      "outputs": []
    },
    {
      "cell_type": "code",
      "source": [
        "import matplotlib.pyplot as plt\n",
        "import seaborn as sns"
      ],
      "metadata": {
        "id": "qUI1lBAS0QWq"
      },
      "execution_count": null,
      "outputs": []
    },
    {
      "cell_type": "code",
      "source": [
        "plt.figure(figsize=(10,10))\n",
        "sns.heatmap(core,annot=True,cmap=\"Blues\") #annot function using for show column name\n",
        "plt.show()"
      ],
      "metadata": {
        "id": "-KHOtwZo0oJy"
      },
      "execution_count": null,
      "outputs": []
    },
    {
      "cell_type": "code",
      "source": [
        "df.hist(figsize=(10,10),bins=10)\n",
        "plt.show()"
      ],
      "metadata": {
        "id": "_9AvUbMk1q_9"
      },
      "execution_count": null,
      "outputs": []
    },
    {
      "cell_type": "markdown",
      "source": [
        "Split input and output"
      ],
      "metadata": {
        "id": "XsVDC9nT3ChN"
      }
    },
    {
      "cell_type": "code",
      "source": [
        "x = df.drop(\"price\",axis=1)\n",
        "y = df[\"price\"]"
      ],
      "metadata": {
        "id": "37cRS2Md2zvf"
      },
      "execution_count": null,
      "outputs": []
    },
    {
      "cell_type": "code",
      "source": [
        "from sklearn.model_selection import train_test_split"
      ],
      "metadata": {
        "id": "z9uDHQSq3mVO"
      },
      "execution_count": null,
      "outputs": []
    },
    {
      "cell_type": "code",
      "source": [
        "x_train,x_test,y_train,y_test = train_test_split(x,y,test_size=0.2,random_state=42)"
      ],
      "metadata": {
        "id": "sUwxEBBc34gc"
      },
      "execution_count": null,
      "outputs": []
    },
    {
      "cell_type": "markdown",
      "source": [
        "Training of Model"
      ],
      "metadata": {
        "id": "L-QWokMSEkVW"
      }
    },
    {
      "cell_type": "markdown",
      "source": [
        "LinearRegression"
      ],
      "metadata": {
        "id": "Z2bU201RE0PH"
      }
    },
    {
      "cell_type": "code",
      "source": [
        "from sklearn.linear_model import LinearRegression"
      ],
      "metadata": {
        "id": "R6Pwnumd4PK7"
      },
      "execution_count": null,
      "outputs": []
    },
    {
      "cell_type": "code",
      "source": [
        "LR = LinearRegression()"
      ],
      "metadata": {
        "id": "p8DFVSjX4XTF"
      },
      "execution_count": null,
      "outputs": []
    },
    {
      "cell_type": "code",
      "source": [
        "LR.fit(x_train,y_train)"
      ],
      "metadata": {
        "id": "WDSATlyu4aMD"
      },
      "execution_count": null,
      "outputs": []
    },
    {
      "cell_type": "markdown",
      "source": [
        "Predict"
      ],
      "metadata": {
        "id": "KWv--T064geB"
      }
    },
    {
      "cell_type": "code",
      "source": [
        "y_predict = LR.predict(x_test)"
      ],
      "metadata": {
        "id": "8mxa5xhZ4j4Z"
      },
      "execution_count": null,
      "outputs": []
    },
    {
      "cell_type": "markdown",
      "source": [
        "Metrics"
      ],
      "metadata": {
        "id": "0NrJeqfp42Df"
      }
    },
    {
      "cell_type": "code",
      "source": [
        "from sklearn.metrics import r2_score"
      ],
      "metadata": {
        "id": "EuHKkaDk4yn5"
      },
      "execution_count": null,
      "outputs": []
    },
    {
      "cell_type": "code",
      "source": [
        "LR_accuracy = r2_score(y_test,y_predict)"
      ],
      "metadata": {
        "id": "AGmq-Htx5JGD"
      },
      "execution_count": null,
      "outputs": []
    },
    {
      "cell_type": "code",
      "source": [
        "LR_accuracy"
      ],
      "metadata": {
        "id": "HJktdGfz5i3t"
      },
      "execution_count": null,
      "outputs": []
    },
    {
      "cell_type": "code",
      "source": [
        "LR_accuracy*100"
      ],
      "metadata": {
        "id": "8oqEW1b2EMGY"
      },
      "execution_count": null,
      "outputs": []
    }
  ]
}